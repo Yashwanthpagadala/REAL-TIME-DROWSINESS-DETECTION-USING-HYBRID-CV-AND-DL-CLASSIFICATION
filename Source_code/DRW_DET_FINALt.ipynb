!pip install numpy
!pip install imutils
!pip install scipy
!pip install dlib
!pip install twilio
!cmake --version
!pip install opencv-python
!pip install "C:\Users\svvan\Downloads\DROWSINESS_AND_YAWN_DETECTION\DROWSINESS_AND_YAWN_DETECTION\Dlib_Windows_Python3.x-main\dlib-19.24.99-cp312-cp312-win_amd64.whl"
!pip install dlib-19.24.99-cp312-cp312-win_amd64.whl
!pip install dlib-19.24.99-cp312-cp312-win_amd64.whl
!pip install dlib
!pip install C:\temp\dlib-19.24.99-cp312-cp312-win_amd64.whl
!python --version
cd C:\temp
import winsound
from twilio.rest import Client
from scipy.spatial import distance as dist
from imutils.video import VideoStream
from imutils import face_utils
import numpy as np
import argparse
import imutils
import time
import dlib
import cv2


EYE_AR_THRESH = 0.2
EYE_AR_CONSEC_FRAMES = 30
YAWN_THRESH = 30
alarm_status = False
alarm_status2 = False
alarm_status3=False
danger_alarm_status = False
COUNTER = 0
yellow_border_duration = 3  # Duration to show yellow border (in seconds)
yellow_border_time = None  # Time to start showing yellow border
drowsy_start_time = None  # Time when drowsiness started
drowsy_time = 0  # Total drowsy time in seconds
non_drowsy_time = 0  # Total non-drowsy time in seconds


print("-> Loading the predictor and detector...")
detector = cv2.CascadeClassifier(r"C:\Users\svvan\Downloads\DROWSINESS_AND_YAWN_DETECTION\DROWSINESS_AND_YAWN_DETECTION\haarcascade_frontalface_default.xml")
predictor = dlib.shape_predictor(r"C:\Users\svvan\Downloads\DROWSINESS_AND_YAWN_DETECTION\DROWSINESS_AND_YAWN_DETECTION\shape_predictor_68_face_landmarks.dat")

print("-> Starting Video Stream")
cap = cv2.VideoCapture(0)

def play_alarm():
    alarm_path = r"C:\Users\svvan\Downloads\DROWSINESS_AND_YAWN_DETECTION\DROWSINESS_AND_YAWN_DETECTION\alarm.wav"
    winsound.PlaySound(alarm_path, winsound.SND_FILENAME | winsound.SND_ASYNC)

def play_danger_alarm():
    alarm_path = r"C:\Users\svvan\Downloads\DROWSINESS_AND_YAWN_DETECTION\DROWSINESS_AND_YAWN_DETECTION\Danger.wav"
    winsound.PlaySound(alarm_path, winsound.SND_FILENAME | winsound.SND_ASYNC)

def play_yawn_alaram():
    alarm_path = r"C:\Users\svvan\Downloads\DROWSINESS_AND_YAWN_DETECTION\DROWSINESS_AND_YAWN_DETECTION\yawn_sound.wav"
    winsound.PlaySound(alarm_path, winsound.SND_FILENAME | winsound.SND_ASYNC)

def stop_alarm():
    # Stops any currently playing sound
    winsound.PlaySound(None, winsound.SND_PURGE)

def send_twilio_message(message_body):
    client = Client(ACCOUNT_SID, AUTH_TOKEN)
    
    message = client.messages.create(
        body=message_body,
        from_=TWILIO_PHONE_NUMBER,
        to=TO_PHONE_NUMBER
    )
    
    print(f"Message sent successfully! SID: {message.sid}")

def twilo_msg():
    ACCOUNT_SID = "AC13b3d68d7677de41995581f799aab658"
    AUTH_TOKEN = "cf852fbb364643a1ac70cda4da9f9869"
    TWILIO_PHONE_NUMBER = "+12294583702"  # Your Twilio phone number
    TO_PHONE_NUMBER = "+918555034813"  # Receiver's phone number
    cv2.putText(frame, "You are in danger!", (10, 40), cv2.FONT_HERSHEY_SIMPLEX, 1, (0, 0, 255), 2)
    # send_twilio_message("Alert! Drowsiness detected. Stay safe.")
    
def eye_aspect_ratio(eye):
    A = dist.euclidean(eye[1], eye[5])
    B = dist.euclidean(eye[2], eye[4])
    C = dist.euclidean(eye[0], eye[3])
    ear = (A + B) / (2.0 * C)
    return ear

def final_ear(shape):
    (lStart, lEnd) = face_utils.FACIAL_LANDMARKS_IDXS["left_eye"]
    (rStart, rEnd) = face_utils.FACIAL_LANDMARKS_IDXS["right_eye"]
    
    leftEye = shape[lStart:lEnd]
    rightEye = shape[rStart:rEnd]
    
    leftEAR = eye_aspect_ratio(leftEye)
    rightEAR = eye_aspect_ratio(rightEye)
    
    ear = (leftEAR + rightEAR) / 2.0
    return (ear, leftEye, rightEye)

def lip_distance(shape):
    top_lip = shape[50:53]
    top_lip = np.concatenate((top_lip, shape[61:64]))
    
    low_lip = shape[56:59]
    low_lip = np.concatenate((low_lip, shape[65:68]))
    
    top_mean = np.mean(top_lip, axis=0)
    low_mean = np.mean(low_lip, axis=0)
    
    distance = abs(top_mean[1] - low_mean[1])
    return distance



while True:
    ret, frame = cap.read()
    if not ret:
        break
    
    gray = cv2.cvtColor(frame, cv2.COLOR_BGR2GRAY)
    rects = detector.detectMultiScale(gray, scaleFactor=1.1, minNeighbors=5, minSize=(30, 30))
    
    for (x, y, w, h) in rects:
        rect = dlib.rectangle(int(x), int(y), int(x + w), int(y + h))
        shape = predictor(gray, rect)
        shape = face_utils.shape_to_np(shape)
        
        ear, leftEye, rightEye = final_ear(shape)
        distance = lip_distance(shape)

        leftEyeHull = cv2.convexHull(leftEye)
        rightEyeHull = cv2.convexHull(rightEye)

        lip = shape[48:60]
        cv2.drawContours(frame, [lip], -1, (0, 255, 0), 1)

        # Initially draw the eyes contour in green
        cv2.drawContours(frame, [leftEyeHull], -1, (0, 255, 0), 2)
        cv2.drawContours(frame, [rightEyeHull], -1, (0, 255, 0), 2)

        # Drowsiness detection
        if ear < EYE_AR_THRESH:
            COUNTER += 1
            if COUNTER >= EYE_AR_CONSEC_FRAMES:
                if not alarm_status:
                    alarm_status = True
                    play_alarm()  # Play alarm sound when drowsiness is detected

                if yellow_border_time is None:
                    yellow_border_time = time.time()  # Start the yellow border timer
                    drowsy_start_time = time.time()  # Start tracking how long drowsiness lasts
                non_drowsy_time=0
                # Check if it's time to switch to red
                if time.time() - yellow_border_time < yellow_border_duration:
                    # Draw yellow eye contour
                    cv2.putText(frame, "DROWSINESS ALERT!", (10, 30), cv2.FONT_HERSHEY_SIMPLEX, 0.7, (0, 255, 255), 2)
                    cv2.drawContours(frame, [leftEyeHull], -1, (0, 255, 255), 2)
                    cv2.drawContours(frame, [rightEyeHull], -1, (0, 255, 255), 2)
                else:
                    # After 2 seconds, change the color to red and trigger the alarm
                    if not alarm_status3:
                        alarm_status3 = True
                        play_danger_alarm()
                    cv2.putText(frame, "HIGH DROWSINESS ALERT!", (10, 30), cv2.FONT_HERSHEY_SIMPLEX, 0.7, (0, 0, 255), 2)
                    cv2.drawContours(frame, [leftEyeHull], -1, (0, 0, 255), 2)
                    cv2.drawContours(frame, [rightEyeHull], -1, (0, 0, 255), 2)

                # If drowsy for 6 seconds, play danger alarm and print a message
                if drowsy_start_time and (time.time() - drowsy_start_time >= 6):
                    if not danger_alarm_status:
                        danger_alarm_status = True
                        play_danger_alarm()  # Play the danger alarm sound
                    twilo_msg()  # Display "You are in danger!" message

                # Update drowsy time
                drowsy_time = time.time() - drowsy_start_time

        else:
            COUNTER = 0
            if alarm_status:
                # Only stop alarm once drowsiness is cleared
                alarm_status = False
                alarm_status3=False
                stop_alarm()  # Stop the alarm when eyes are opened
                yellow_border_time = None  # Reset the timer
                drowsy_start_time = None  # Reset the drowsy start time
                danger_alarm_status = False  # Stop the danger alarm when drowsiness clears

            # Update non-drowsy time
            if drowsy_start_time is None:
                non_drowsy_time += time.time() - drowsy_time
            
    

        # Yawn detection
        if distance > YAWN_THRESH:
            cv2.putText(frame, "Yawn Alert", (10, 30), cv2.FONT_HERSHEY_SIMPLEX, 0.7, (0, 0, 255), 2)
            if not alarm_status2:
                alarm_status2 = True
                play_yawn_alaram()  # Play alarm sound when a yawn is detected
        else:
            if alarm_status2:
                alarm_status2 = False
                stop_alarm()  # Stop the alarm when yawning ends
            if non_drowsy_time >=5000000000000:
               cv2.putText(frame, "TAKE REST", (10, 30), cv2.FONT_HERSHEY_SIMPLEX, 0.7, (0, 0, 255), 4)

        # Display drowsy time and non-drowsy time on screen
       

        cv2.putText(frame, "EAR: {:.2f}".format(ear), (380, 30), cv2.FONT_HERSHEY_SIMPLEX, 0.7, (0, 0, 255), 2)
        cv2.putText(frame, "YAWN: {:.2f}".format(distance), (380, 60), cv2.FONT_HERSHEY_SIMPLEX, 0.7, (0, 0, 255), 2)
        cv2.putText(frame, "Drowsy: {:.2f}s".format(drowsy_time), (10, 400), cv2.FONT_HERSHEY_SIMPLEX, 0.7, (255, 255, 255), 2)
        cv2.putText(frame, "Non-Drowsy: {:.2f}s".format(non_drowsy_time), (10, 420), cv2.FONT_HERSHEY_SIMPLEX, 0.7, (255, 255, 255), 2)
    
    cv2.imshow("Live Drowsiness Detection", frame)
    if cv2.waitKey(1) & 0xFF == ord('q'):
        break
    
cap.release()
cv2.destroyAllWindows()
